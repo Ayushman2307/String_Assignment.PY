{
 "cells": [
  {
   "cell_type": "markdown",
   "id": "32234c21-3b25-440a-8444-9e57f99a646e",
   "metadata": {},
   "source": [
    "1. How do you concatenate two strings in Python?"
   ]
  },
  {
   "cell_type": "code",
   "execution_count": 1,
   "id": "27d6fc80-2aa3-4c7b-97e3-0282d3c225e1",
   "metadata": {
    "scrolled": true
   },
   "outputs": [
    {
     "name": "stdout",
     "output_type": "stream",
     "text": [
      "Hello,I am learning python\n"
     ]
    }
   ],
   "source": [
    "first_name=\"Hello,\"\n",
    "second_name=\"I am learning python\"\n",
    "\n",
    "print(first_name+second_name)"
   ]
  },
  {
   "cell_type": "markdown",
   "id": "58d8bb77-8e9a-4637-ba5b-ca30f2d2e9a9",
   "metadata": {},
   "source": [
    "2. What is the difference between the + operator and the join() method for concatenating strings?\n",
    "\n",
    "Purpose and Use Case:\n",
    " Use the + operator for simple,small-scale concatenation.\n",
    " Use the jion() method for concatenating a large number of strings or when working with an iterable like (list or tuple).\n",
    "\n",
    "Syntax and Readability:\n",
    " The + operator is simple and more readable for a small number of strings.\n",
    " The jion() method is better for clarity when dealing with sequence of strings.\n",
    "\n",
    "Performance:\n",
    " The + operator can be less efficient for large-scale concatenation due to repeated creation of new strings.\n",
    " The jion() method is generally more efficient for concatenating many strings."
   ]
  },
  {
   "cell_type": "markdown",
   "id": "deea870c-ac09-4268-8d5b-756e3e5fc836",
   "metadata": {},
   "source": [
    "3. How do you access individual characters in a string?"
   ]
  },
  {
   "cell_type": "code",
   "execution_count": 21,
   "id": "3931e823-00ab-4fd9-8601-ec4d48857d08",
   "metadata": {},
   "outputs": [
    {
     "name": "stdout",
     "output_type": "stream",
     "text": [
      "P\n"
     ]
    }
   ],
   "source": [
    "str=\"Python\"\n",
    "\n",
    "print(str[0])"
   ]
  },
  {
   "cell_type": "markdown",
   "id": "494d3b74-0948-48b6-a4b7-b20f21c1c158",
   "metadata": {},
   "source": [
    "4. What method is used to find the length of a string in Python?"
   ]
  },
  {
   "cell_type": "code",
   "execution_count": 23,
   "id": "6b7a83e1-bb2d-43a2-8106-abf3e608b00a",
   "metadata": {},
   "outputs": [
    {
     "data": {
      "text/plain": [
       "14"
      ]
     },
     "execution_count": 23,
     "metadata": {},
     "output_type": "execute_result"
    }
   ],
   "source": [
    "Name=\"Ayushman Singh\"\n",
    "\n",
    "len(Name)"
   ]
  },
  {
   "cell_type": "markdown",
   "id": "80218256-7404-45ae-a5ae-9f642e53862b",
   "metadata": {},
   "source": [
    "5. How can you convert a string to uppercase in Python?"
   ]
  },
  {
   "cell_type": "code",
   "execution_count": 2,
   "id": "8576f0e6-60c1-460a-9be1-a334a5ee1c07",
   "metadata": {},
   "outputs": [
    {
     "name": "stdout",
     "output_type": "stream",
     "text": [
      "HELLO WORLD\n"
     ]
    }
   ],
   "source": [
    "name='hello world'\n",
    "\n",
    "print(name.upper())"
   ]
  },
  {
   "cell_type": "markdown",
   "id": "b9acdbd4-5d7c-4e84-834f-8a6b3178020f",
   "metadata": {},
   "source": [
    "6. How can you convert a string to lowercase in Python?"
   ]
  },
  {
   "cell_type": "code",
   "execution_count": 3,
   "id": "41ab2770-30dc-473d-b126-81b6dcb91499",
   "metadata": {},
   "outputs": [
    {
     "name": "stdout",
     "output_type": "stream",
     "text": [
      "ayushman singh\n"
     ]
    }
   ],
   "source": [
    "name='AYUSHMAN SINGH'\n",
    "\n",
    "print(name.lower())"
   ]
  },
  {
   "cell_type": "markdown",
   "id": "b9daab36-f20c-4934-9dbf-4a262e9c8888",
   "metadata": {},
   "source": [
    "7. What method is used to replace substrings within a string?"
   ]
  },
  {
   "cell_type": "code",
   "execution_count": 24,
   "id": "92d2279e-17e2-4e9c-9d0d-e5d54134b6c8",
   "metadata": {},
   "outputs": [
    {
     "data": {
      "text/plain": [
       "'Hython'"
      ]
     },
     "execution_count": 24,
     "metadata": {},
     "output_type": "execute_result"
    }
   ],
   "source": [
    "name= \"Python\"\n",
    "p=\"P\"\n",
    "h=\"H\"\n",
    "name.replace(p,h)\n"
   ]
  },
  {
   "cell_type": "markdown",
   "id": "b7368db1-30ae-478d-9f0c-2da4ef473a9b",
   "metadata": {},
   "source": [
    "8. How can you split a string into a list of substrings based on a delimiter?"
   ]
  },
  {
   "cell_type": "code",
   "execution_count": 39,
   "id": "d9549416-4987-46ed-bc40-79052431d95d",
   "metadata": {},
   "outputs": [
    {
     "data": {
      "text/plain": [
       "['Ayushman', 'Singh']"
      ]
     },
     "execution_count": 39,
     "metadata": {},
     "output_type": "execute_result"
    }
   ],
   "source": [
    "string=\"Ayushman@Singh\"\n",
    "\n",
    "string.split(\"@\")"
   ]
  },
  {
   "cell_type": "markdown",
   "id": "18744a41-829d-4780-892a-48b634896e1c",
   "metadata": {},
   "source": [
    "9. How do you check if a string starts with a particular substring?"
   ]
  },
  {
   "cell_type": "code",
   "execution_count": 6,
   "id": "9a941c33-dd64-4b1f-8e74-3afaafa1fe1b",
   "metadata": {},
   "outputs": [
    {
     "name": "stdout",
     "output_type": "stream",
     "text": [
      "True\n"
     ]
    }
   ],
   "source": [
    "string = \"Python\"\n",
    "\n",
    "print(string.startswith(\"P\"))"
   ]
  },
  {
   "cell_type": "markdown",
   "id": "5ae40231-768d-411d-a224-56b8f4d95f23",
   "metadata": {},
   "source": [
    "10. How do you check if a string ends with a particular substring?"
   ]
  },
  {
   "cell_type": "code",
   "execution_count": 7,
   "id": "8504f825-c3bc-46f7-a8be-0bc8656f67e8",
   "metadata": {},
   "outputs": [
    {
     "name": "stdout",
     "output_type": "stream",
     "text": [
      "True\n"
     ]
    }
   ],
   "source": [
    "string = \"Comment\"\n",
    "\n",
    "print(string.endswith(\"t\"))"
   ]
  },
  {
   "cell_type": "markdown",
   "id": "08e6a011-1b33-4a07-8eb0-ffd846d9a0a2",
   "metadata": {},
   "source": [
    "11. How can you remove leading and trailing whitespace from a string?"
   ]
  },
  {
   "cell_type": "code",
   "execution_count": 41,
   "id": "953ad5e4-876c-40d9-935f-936e334d464a",
   "metadata": {},
   "outputs": [
    {
     "data": {
      "text/plain": [
       "'hello python'"
      ]
     },
     "execution_count": 41,
     "metadata": {},
     "output_type": "execute_result"
    }
   ],
   "source": [
    "string=\"     hello python     \"\n",
    "\n",
    "string.strip()"
   ]
  },
  {
   "cell_type": "markdown",
   "id": "d8ab5564-70a0-4dfc-9e7a-fc1b520cd8fa",
   "metadata": {},
   "source": [
    "12. What method is used to find the index of the first occurrence of a substring within a\n",
    "string?"
   ]
  },
  {
   "cell_type": "code",
   "execution_count": 12,
   "id": "d8351bb3-842c-4f0f-ac62-c209e882a532",
   "metadata": {},
   "outputs": [
    {
     "name": "stdout",
     "output_type": "stream",
     "text": [
      "0\n"
     ]
    }
   ],
   "source": [
    "string=\"Hello World\"\n",
    "index= string.index('H')\n",
    "print(index)"
   ]
  },
  {
   "cell_type": "markdown",
   "id": "143a5dd4-c29e-4c80-a2b3-fd1375190464",
   "metadata": {},
   "source": [
    "13. How can you count the number of occurrences of a substring within a string?"
   ]
  },
  {
   "cell_type": "code",
   "execution_count": 8,
   "id": "13d0aacd-b130-4427-9d42-6993ffbc29c9",
   "metadata": {},
   "outputs": [
    {
     "name": "stdout",
     "output_type": "stream",
     "text": [
      "2\n"
     ]
    }
   ],
   "source": [
    "string=\"Hello Python\"\n",
    "\n",
    "print(string.count(\"o\"))"
   ]
  },
  {
   "cell_type": "markdown",
   "id": "db1be2bf-76ea-4b6e-bcd5-76b502790ed7",
   "metadata": {},
   "source": [
    "14. How do you check if a string contains only alphabetic characters?"
   ]
  },
  {
   "cell_type": "code",
   "execution_count": 19,
   "id": "2489b17c-353e-4e1f-bf6a-749359326153",
   "metadata": {},
   "outputs": [
    {
     "name": "stdout",
     "output_type": "stream",
     "text": [
      "True\n"
     ]
    }
   ],
   "source": [
    "string=\"HelloWorld\"\n",
    "\n",
    "print(string.isalpha())"
   ]
  },
  {
   "cell_type": "markdown",
   "id": "3f800523-9baa-4d0b-a5d3-cc2c77a905ea",
   "metadata": {},
   "source": [
    "15. How do you check if a string contains only numeric characters?"
   ]
  },
  {
   "cell_type": "code",
   "execution_count": 18,
   "id": "5cfe5e18-18bf-4a08-825e-2fef22eddb3c",
   "metadata": {},
   "outputs": [
    {
     "name": "stdout",
     "output_type": "stream",
     "text": [
      "True\n"
     ]
    }
   ],
   "source": [
    "string=\"9939081787\"\n",
    "\n",
    "print(string.isnumeric())"
   ]
  },
  {
   "cell_type": "markdown",
   "id": "c53eec64-bf31-46de-be76-970ba1ab8953",
   "metadata": {},
   "source": [
    "16. How can you check if a string is a palindrome?"
   ]
  },
  {
   "cell_type": "code",
   "execution_count": 48,
   "id": "cf6c0671-a263-414f-9d0f-d0a6f15da27a",
   "metadata": {},
   "outputs": [
    {
     "name": "stdin",
     "output_type": "stream",
     "text": [
      "Enter String: malayalam\n"
     ]
    },
    {
     "name": "stdout",
     "output_type": "stream",
     "text": [
      "Palindrome\n"
     ]
    }
   ],
   "source": [
    "a=input(\"Enter String:\")\n",
    "b=a[-1::-1]\n",
    "\n",
    "if(a==b):\n",
    "    print(\"Palindrome\")\n",
    "else:\n",
    "    print(\"Not Palindrome\")"
   ]
  },
  {
   "cell_type": "markdown",
   "id": "8ee43a9e-3981-46ee-a44b-a61c8bd3f8d9",
   "metadata": {},
   "source": [
    "17. How can you reverse a string in Python?"
   ]
  },
  {
   "cell_type": "code",
   "execution_count": 20,
   "id": "c527fb8b-edff-4716-97ce-4f8321844477",
   "metadata": {},
   "outputs": [
    {
     "data": {
      "text/plain": [
       "'gnimmargorP'"
      ]
     },
     "execution_count": 20,
     "metadata": {},
     "output_type": "execute_result"
    }
   ],
   "source": [
    "string= \"Programming\"\n",
    "\n",
    "string[::-1]"
   ]
  },
  {
   "cell_type": "markdown",
   "id": "b49acca7-5b5e-4ee5-8d43-ed401add7c9b",
   "metadata": {},
   "source": [
    "18. How do you format a string with placeholders for variable values?"
   ]
  },
  {
   "cell_type": "code",
   "execution_count": 26,
   "id": "6ea39896-99d5-441d-96e3-bdfac9be89ed",
   "metadata": {},
   "outputs": [
    {
     "name": "stdout",
     "output_type": "stream",
     "text": [
      "My name is Ayushman and my height is 6.1 ft.\n"
     ]
    }
   ],
   "source": [
    "name=\"Ayushman\"\n",
    "height='6.1 ft.'\n",
    "\n",
    "message = \"My name is name and my height is height\"\n",
    "message1 = \"My name is {} and my height is {}\".format(name,height)\n",
    "\n",
    "print(message1)"
   ]
  },
  {
   "cell_type": "markdown",
   "id": "995a8089-911c-4d98-9aae-67ec12d8d5be",
   "metadata": {},
   "source": [
    "19. How do you access a substring of a string using slicing?"
   ]
  },
  {
   "cell_type": "code",
   "execution_count": 42,
   "id": "3a7769ae-6dec-4f33-a1d6-a7639ac6fa1d",
   "metadata": {},
   "outputs": [
    {
     "data": {
      "text/plain": [
       "'python'"
      ]
     },
     "execution_count": 42,
     "metadata": {},
     "output_type": "execute_result"
    }
   ],
   "source": [
    "string=\"this is python\"\n",
    "string[8::1]"
   ]
  },
  {
   "cell_type": "markdown",
   "id": "80461168-0d77-4fb7-b60a-dec793f77e6d",
   "metadata": {},
   "source": [
    "20. How can you remove specific characters from a string in Python?"
   ]
  },
  {
   "cell_type": "code",
   "execution_count": 47,
   "id": "46b2f4de-b20c-4e99-b9a9-b2123be6f082",
   "metadata": {},
   "outputs": [
    {
     "name": "stdout",
     "output_type": "stream",
     "text": [
      " this is python\n",
      "hello this is \n"
     ]
    }
   ],
   "source": [
    "name=\"hello this is python\"\n",
    "string=name.removeprefix(\"hello\")\n",
    "string1=name.removesuffix(\"python\")\n",
    "\n",
    "print(string)\n",
    "print(string1)"
   ]
  }
 ],
 "metadata": {
  "kernelspec": {
   "display_name": "Python 3 (ipykernel)",
   "language": "python",
   "name": "python3"
  },
  "language_info": {
   "codemirror_mode": {
    "name": "ipython",
    "version": 3
   },
   "file_extension": ".py",
   "mimetype": "text/x-python",
   "name": "python",
   "nbconvert_exporter": "python",
   "pygments_lexer": "ipython3",
   "version": "3.11.7"
  }
 },
 "nbformat": 4,
 "nbformat_minor": 5
}
